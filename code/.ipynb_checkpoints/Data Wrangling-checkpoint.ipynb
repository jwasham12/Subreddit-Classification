{
 "cells": [
  {
   "cell_type": "markdown",
   "metadata": {},
   "source": [
    "# Importing Data"
   ]
  },
  {
   "cell_type": "code",
   "execution_count": 1,
   "metadata": {},
   "outputs": [],
   "source": [
    "import requests\n",
    "import time\n",
    "from tqdm import tqdm\n",
    "import pandas as pd"
   ]
  },
  {
   "cell_type": "markdown",
   "metadata": {},
   "source": [
    "# Obtain the Data from Reddit\n",
    "\n",
    "## Option 1 - Importing Data using json"
   ]
  },
  {
   "cell_type": "code",
   "execution_count": 2,
   "metadata": {},
   "outputs": [],
   "source": [
    "# create function to access the api and receive the requested data\n",
    "def get_json(url):\n",
    "    posts = []\n",
    "    header = {'User-agent': 'hello world 0.1'}\n",
    "    after = None\n",
    "    for i in tqdm(range(40)):\n",
    "        if after == None:\n",
    "            params = {}\n",
    "        else:\n",
    "            params = {'after': after}\n",
    "        res = requests.get(url, headers= header)\n",
    "        if res.status_code == 200:\n",
    "            the_json = res.json()\n",
    "            posts.extend(the_json['data']['children'])\n",
    "            after = the_json['data']['after']\n",
    "        else:\n",
    "            print(res.status_code)\n",
    "            break\n",
    "        time.sleep(1)\n",
    "    return(posts)\n",
    "\n",
    "# Make a data frame with the recieved data\n",
    "def to_df(posts):\n",
    "    label = []\n",
    "    title = []\n",
    "    text = []\n",
    "    for i in range(len(posts)):\n",
    "        label.append(posts[i]['data']['subreddit'])\n",
    "        title.append(posts[i]['data']['title'])\n",
    "        text.append(posts[i]['data']['selftext'])\n",
    "    combine = {'label': label, 'title': title, 'text': text}\n",
    "    df = pd.DataFrame(combine)\n",
    "    return(df)"
   ]
  },
  {
   "cell_type": "code",
   "execution_count": 3,
   "metadata": {
    "scrolled": false
   },
   "outputs": [
    {
     "name": "stderr",
     "output_type": "stream",
     "text": [
      "100%|██████████| 40/40 [00:53<00:00,  1.31s/it]\n"
     ]
    },
    {
     "data": {
      "text/html": [
       "<div>\n",
       "<style scoped>\n",
       "    .dataframe tbody tr th:only-of-type {\n",
       "        vertical-align: middle;\n",
       "    }\n",
       "\n",
       "    .dataframe tbody tr th {\n",
       "        vertical-align: top;\n",
       "    }\n",
       "\n",
       "    .dataframe thead th {\n",
       "        text-align: right;\n",
       "    }\n",
       "</style>\n",
       "<table border=\"1\" class=\"dataframe\">\n",
       "  <thead>\n",
       "    <tr style=\"text-align: right;\">\n",
       "      <th></th>\n",
       "      <th>label</th>\n",
       "      <th>title</th>\n",
       "      <th>text</th>\n",
       "    </tr>\n",
       "  </thead>\n",
       "  <tbody>\n",
       "    <tr>\n",
       "      <th>0</th>\n",
       "      <td>Republican</td>\n",
       "      <td>Notorious Late-Term Abortionist Loses Medical ...</td>\n",
       "      <td></td>\n",
       "    </tr>\n",
       "    <tr>\n",
       "      <th>1</th>\n",
       "      <td>Republican</td>\n",
       "      <td>Can anyone find the ironic flaw in this article?</td>\n",
       "      <td></td>\n",
       "    </tr>\n",
       "    <tr>\n",
       "      <th>2</th>\n",
       "      <td>Republican</td>\n",
       "      <td>Trump Threatens To Close Southern Border, End ...</td>\n",
       "      <td></td>\n",
       "    </tr>\n",
       "    <tr>\n",
       "      <th>3</th>\n",
       "      <td>Republican</td>\n",
       "      <td>$10 Billion to Central America</td>\n",
       "      <td></td>\n",
       "    </tr>\n",
       "    <tr>\n",
       "      <th>4</th>\n",
       "      <td>Republican</td>\n",
       "      <td>Bump Stock Ban Broken Down: Unconstitutional A...</td>\n",
       "      <td></td>\n",
       "    </tr>\n",
       "  </tbody>\n",
       "</table>\n",
       "</div>"
      ],
      "text/plain": [
       "        label                                              title text\n",
       "0  Republican  Notorious Late-Term Abortionist Loses Medical ...     \n",
       "1  Republican   Can anyone find the ironic flaw in this article?     \n",
       "2  Republican  Trump Threatens To Close Southern Border, End ...     \n",
       "3  Republican                     $10 Billion to Central America     \n",
       "4  Republican  Bump Stock Ban Broken Down: Unconstitutional A...     "
      ]
     },
     "execution_count": 3,
     "metadata": {},
     "output_type": "execute_result"
    }
   ],
   "source": [
    "# Get the republican subreddit\n",
    "url = \"https://www.reddit.com/r/Republican/new.json\"\n",
    "post_rep = get_json(url)\n",
    "rep = to_df(post_rep)\n",
    "rep.head()"
   ]
  },
  {
   "cell_type": "code",
   "execution_count": 4,
   "metadata": {},
   "outputs": [
    {
     "name": "stderr",
     "output_type": "stream",
     "text": [
      "100%|██████████| 40/40 [00:54<00:00,  1.35s/it]\n"
     ]
    },
    {
     "data": {
      "text/html": [
       "<div>\n",
       "<style scoped>\n",
       "    .dataframe tbody tr th:only-of-type {\n",
       "        vertical-align: middle;\n",
       "    }\n",
       "\n",
       "    .dataframe tbody tr th {\n",
       "        vertical-align: top;\n",
       "    }\n",
       "\n",
       "    .dataframe thead th {\n",
       "        text-align: right;\n",
       "    }\n",
       "</style>\n",
       "<table border=\"1\" class=\"dataframe\">\n",
       "  <thead>\n",
       "    <tr style=\"text-align: right;\">\n",
       "      <th></th>\n",
       "      <th>label</th>\n",
       "      <th>title</th>\n",
       "      <th>text</th>\n",
       "    </tr>\n",
       "  </thead>\n",
       "  <tbody>\n",
       "    <tr>\n",
       "      <th>0</th>\n",
       "      <td>democrats</td>\n",
       "      <td>\"artistically designed steel slats\" sounds a l...</td>\n",
       "      <td></td>\n",
       "    </tr>\n",
       "    <tr>\n",
       "      <th>1</th>\n",
       "      <td>democrats</td>\n",
       "      <td>Trump’s Gentrification Scheme to Enrich Real E...</td>\n",
       "      <td></td>\n",
       "    </tr>\n",
       "    <tr>\n",
       "      <th>2</th>\n",
       "      <td>democrats</td>\n",
       "      <td>Once again, Democrats have to clean up the GOP...</td>\n",
       "      <td></td>\n",
       "    </tr>\n",
       "    <tr>\n",
       "      <th>3</th>\n",
       "      <td>democrats</td>\n",
       "      <td>Dem-led House must lead cleanup of Trump-made ...</td>\n",
       "      <td></td>\n",
       "    </tr>\n",
       "    <tr>\n",
       "      <th>4</th>\n",
       "      <td>democrats</td>\n",
       "      <td>For First Time, Majority Of Americans Want Tru...</td>\n",
       "      <td></td>\n",
       "    </tr>\n",
       "  </tbody>\n",
       "</table>\n",
       "</div>"
      ],
      "text/plain": [
       "       label                                              title text\n",
       "0  democrats  \"artistically designed steel slats\" sounds a l...     \n",
       "1  democrats  Trump’s Gentrification Scheme to Enrich Real E...     \n",
       "2  democrats  Once again, Democrats have to clean up the GOP...     \n",
       "3  democrats  Dem-led House must lead cleanup of Trump-made ...     \n",
       "4  democrats  For First Time, Majority Of Americans Want Tru...     "
      ]
     },
     "execution_count": 4,
     "metadata": {},
     "output_type": "execute_result"
    }
   ],
   "source": [
    "# Get the democrat subreddit\n",
    "url = \"https://www.reddit.com/r/democrats/new.json\"\n",
    "post_dem = get_json(url)\n",
    "dem = to_df(post_dem)\n",
    "dem.head()"
   ]
  },
  {
   "cell_type": "markdown",
   "metadata": {},
   "source": [
    "##  Option 2 - Importing Data using PRAW (Python Reddit API Wrapper)\n",
    "\n",
    "- Install PRAW\n",
    "- Obtain API keys from [Reddit Developed Applications](https://www.reddit.com/prefs/apps/)\n",
    "- Save the API keys into json file"
   ]
  },
  {
   "cell_type": "code",
   "execution_count": 5,
   "metadata": {},
   "outputs": [],
   "source": [
    "import praw\n",
    "import json"
   ]
  },
  {
   "cell_type": "code",
   "execution_count": 6,
   "metadata": {},
   "outputs": [],
   "source": [
    "# Save the API key \n",
    "with open('../api_key.json', 'r') as f:\n",
    "    keys = json.loads(f.read())"
   ]
  },
  {
   "cell_type": "code",
   "execution_count": 7,
   "metadata": {
    "scrolled": false
   },
   "outputs": [],
   "source": [
    "# Using the right crediential from API key, request and receive the data\n",
    "def get_data(subreddit):\n",
    "    reddit = praw.Reddit(client_id= keys['client_id'],\n",
    "                     client_secret= keys['client_secret'],\n",
    "                     password= keys['password'],\n",
    "                     user_agent= keys['user_agent'],\n",
    "                     username= keys['username'])\n",
    "    if reddit.user.me() == keys['username']:\n",
    "        label = []\n",
    "        title = []\n",
    "        text = []\n",
    "        for submission in reddit.subreddit(subreddit).hot(limit=None):\n",
    "            title.append(submission.title)\n",
    "            text.append(submission.selftext)\n",
    "            label.append(submission.subreddit)\n",
    "        combine = {'label': label, 'title': title, 'text': text}\n",
    "        df = pd.DataFrame(combine)\n",
    "    else:\n",
    "        print(\"Invalid API key\")\n",
    "    return(df)"
   ]
  },
  {
   "cell_type": "code",
   "execution_count": 8,
   "metadata": {},
   "outputs": [
    {
     "data": {
      "text/html": [
       "<div>\n",
       "<style scoped>\n",
       "    .dataframe tbody tr th:only-of-type {\n",
       "        vertical-align: middle;\n",
       "    }\n",
       "\n",
       "    .dataframe tbody tr th {\n",
       "        vertical-align: top;\n",
       "    }\n",
       "\n",
       "    .dataframe thead th {\n",
       "        text-align: right;\n",
       "    }\n",
       "</style>\n",
       "<table border=\"1\" class=\"dataframe\">\n",
       "  <thead>\n",
       "    <tr style=\"text-align: right;\">\n",
       "      <th></th>\n",
       "      <th>label</th>\n",
       "      <th>title</th>\n",
       "      <th>text</th>\n",
       "    </tr>\n",
       "  </thead>\n",
       "  <tbody>\n",
       "    <tr>\n",
       "      <th>0</th>\n",
       "      <td>Republican</td>\n",
       "      <td>Finally, US hospitals will have to post their ...</td>\n",
       "      <td></td>\n",
       "    </tr>\n",
       "    <tr>\n",
       "      <th>1</th>\n",
       "      <td>Republican</td>\n",
       "      <td>$10 Billion to Central America</td>\n",
       "      <td></td>\n",
       "    </tr>\n",
       "    <tr>\n",
       "      <th>2</th>\n",
       "      <td>Republican</td>\n",
       "      <td>Trump Threatens To Close Southern Border, End ...</td>\n",
       "      <td></td>\n",
       "    </tr>\n",
       "    <tr>\n",
       "      <th>3</th>\n",
       "      <td>Republican</td>\n",
       "      <td>Signs of the Times</td>\n",
       "      <td></td>\n",
       "    </tr>\n",
       "    <tr>\n",
       "      <th>4</th>\n",
       "      <td>Republican</td>\n",
       "      <td>Notorious Late-Term Abortionist Loses Medical ...</td>\n",
       "      <td></td>\n",
       "    </tr>\n",
       "  </tbody>\n",
       "</table>\n",
       "</div>"
      ],
      "text/plain": [
       "        label                                              title text\n",
       "0  Republican  Finally, US hospitals will have to post their ...     \n",
       "1  Republican                     $10 Billion to Central America     \n",
       "2  Republican  Trump Threatens To Close Southern Border, End ...     \n",
       "3  Republican                                 Signs of the Times     \n",
       "4  Republican  Notorious Late-Term Abortionist Loses Medical ...     "
      ]
     },
     "execution_count": 8,
     "metadata": {},
     "output_type": "execute_result"
    }
   ],
   "source": [
    "# Get the republican subreddit\n",
    "df_rep = get_data('Republican')\n",
    "df_rep.head()"
   ]
  },
  {
   "cell_type": "code",
   "execution_count": 9,
   "metadata": {},
   "outputs": [
    {
     "data": {
      "text/html": [
       "<div>\n",
       "<style scoped>\n",
       "    .dataframe tbody tr th:only-of-type {\n",
       "        vertical-align: middle;\n",
       "    }\n",
       "\n",
       "    .dataframe tbody tr th {\n",
       "        vertical-align: top;\n",
       "    }\n",
       "\n",
       "    .dataframe thead th {\n",
       "        text-align: right;\n",
       "    }\n",
       "</style>\n",
       "<table border=\"1\" class=\"dataframe\">\n",
       "  <thead>\n",
       "    <tr style=\"text-align: right;\">\n",
       "      <th></th>\n",
       "      <th>label</th>\n",
       "      <th>title</th>\n",
       "      <th>text</th>\n",
       "    </tr>\n",
       "  </thead>\n",
       "  <tbody>\n",
       "    <tr>\n",
       "      <th>0</th>\n",
       "      <td>democrats</td>\n",
       "      <td>Mueller getting a shout out on Jeopardy today</td>\n",
       "      <td></td>\n",
       "    </tr>\n",
       "    <tr>\n",
       "      <th>1</th>\n",
       "      <td>democrats</td>\n",
       "      <td>RT and R/The_D.....: Pro-Trump subreddit upvot...</td>\n",
       "      <td></td>\n",
       "    </tr>\n",
       "    <tr>\n",
       "      <th>2</th>\n",
       "      <td>democrats</td>\n",
       "      <td>Donald Trump’s approval rating equals his all-...</td>\n",
       "      <td></td>\n",
       "    </tr>\n",
       "    <tr>\n",
       "      <th>3</th>\n",
       "      <td>democrats</td>\n",
       "      <td>Lol</td>\n",
       "      <td></td>\n",
       "    </tr>\n",
       "    <tr>\n",
       "      <th>4</th>\n",
       "      <td>democrats</td>\n",
       "      <td>Dem-led House must lead cleanup of Trump-made ...</td>\n",
       "      <td></td>\n",
       "    </tr>\n",
       "  </tbody>\n",
       "</table>\n",
       "</div>"
      ],
      "text/plain": [
       "       label                                              title text\n",
       "0  democrats      Mueller getting a shout out on Jeopardy today     \n",
       "1  democrats  RT and R/The_D.....: Pro-Trump subreddit upvot...     \n",
       "2  democrats  Donald Trump’s approval rating equals his all-...     \n",
       "3  democrats                                                Lol     \n",
       "4  democrats  Dem-led House must lead cleanup of Trump-made ...     "
      ]
     },
     "execution_count": 9,
     "metadata": {},
     "output_type": "execute_result"
    }
   ],
   "source": [
    "# Get the democrat subreddit\n",
    "df_dem = get_data('democrats')\n",
    "df_dem.head()"
   ]
  },
  {
   "cell_type": "code",
   "execution_count": 10,
   "metadata": {},
   "outputs": [
    {
     "name": "stdout",
     "output_type": "stream",
     "text": [
      "(633, 3)\n",
      "(997, 3)\n"
     ]
    }
   ],
   "source": [
    "# Check the shape of the dataframes\n",
    "print(df_rep.shape)\n",
    "print(df_dem.shape)"
   ]
  },
  {
   "cell_type": "code",
   "execution_count": 11,
   "metadata": {},
   "outputs": [],
   "source": [
    "# Export dataframes to csv file\n",
    "df_rep.to_csv('../dataset/reddit_rep.csv', index=False)\n",
    "df_dem.to_csv('../dataset/reddit_dem.csv', index=False)"
   ]
  }
 ],
 "metadata": {
  "kernelspec": {
   "display_name": "Python 3",
   "language": "python",
   "name": "python3"
  },
  "language_info": {
   "codemirror_mode": {
    "name": "ipython",
    "version": 3
   },
   "file_extension": ".py",
   "mimetype": "text/x-python",
   "name": "python",
   "nbconvert_exporter": "python",
   "pygments_lexer": "ipython3",
   "version": "3.6.5"
  }
 },
 "nbformat": 4,
 "nbformat_minor": 2
}
