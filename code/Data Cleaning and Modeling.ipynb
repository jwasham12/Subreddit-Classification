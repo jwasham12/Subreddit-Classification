{
 "cells": [
  {
   "cell_type": "markdown",
   "metadata": {},
   "source": [
    "# 1. Combine Datasets"
   ]
  },
  {
   "cell_type": "code",
   "execution_count": 2,
   "metadata": {},
   "outputs": [],
   "source": [
    "import numpy as np\n",
    "import pandas as pd\n",
    "import matplotlib.pyplot as plt\n",
    "import re\n",
    "import warnings\n",
    "from sklearn.utils import shuffle\n",
    "from sklearn.model_selection import train_test_split, cross_val_score, GridSearchCV, RandomizedSearchCV\n",
    "from sklearn.linear_model import LogisticRegression\n",
    "from sklearn.naive_bayes import MultinomialNB\n",
    "from sklearn.pipeline import Pipeline\n",
    "from sklearn.feature_extraction.text import CountVectorizer, TfidfVectorizer\n",
    "from sklearn.ensemble import RandomForestClassifier\n",
    "from sklearn.metrics import classification_report, roc_auc_score, roc_curve\n",
    "\n",
    "warnings.filterwarnings('ignore')\n",
    "%matplotlib inline"
   ]
  },
  {
   "cell_type": "code",
   "execution_count": 3,
   "metadata": {},
   "outputs": [],
   "source": [
    "# load the csv files\n",
    "rep = pd.read_csv('../dataset/reddit_rep.csv', na_filter=False)\n",
    "dem = pd.read_csv('../dataset/reddit_dem.csv', na_filter=False)"
   ]
  },
  {
   "cell_type": "code",
   "execution_count": 4,
   "metadata": {
    "scrolled": true
   },
   "outputs": [
    {
     "name": "stdout",
     "output_type": "stream",
     "text": [
      "(591, 3)\n",
      "(994, 3)\n"
     ]
    }
   ],
   "source": [
    "# Check the shape\n",
    "print(rep.shape)\n",
    "print(dem.shape)"
   ]
  },
  {
   "cell_type": "code",
   "execution_count": 5,
   "metadata": {},
   "outputs": [
    {
     "data": {
      "image/png": "[encoded data removed]",
      "text/plain": [
       "<Figure size 576x576 with 1 Axes>"
      ]
     },
     "metadata": {},
     "output_type": "display_data"
    }
   ],
   "source": [
    "# Plot the number of posts in each subreddit\n",
    "plt.figure(figsize = (8,8))\n",
    "a = plt.bar('Republican', len(rep))\n",
    "b = plt.bar('Democrat', len(dem))\n",
    "plt.ylabel('Posts', fontsize = 20)\n",
    "plt.xticks(fontsize = 15)\n",
    "plt.text(-.05, 600, 591, fontsize = 20)\n",
    "plt.text(.95, 995, 989, fontsize = 20)\n",
    "plt.ylim(0,1100)\n",
    "plt.rc('ytick',labelsize=13);"
   ]
  },
  {
   "cell_type": "code",
   "execution_count": 11,
   "metadata": {},
   "outputs": [
    {
     "data": {
      "image/png": "[encoded data removed]",
      "text/plain": [
       "<Figure size 576x576 with 1 Axes>"
      ]
     },
     "metadata": {},
     "output_type": "display_data"
    }
   ],
   "source": [
    "# Plot the number of posts with texts in each subreddit\n",
    "plt.figure(figsize = (8,8))\n",
    "a = plt.bar('Republican', len(rep[rep['text'] != \"\"]) / len(rep))\n",
    "b = plt.bar('Democrat', len(dem[dem['text'] != \"\"]) / len(dem))\n",
    "plt.ylabel('Percent', fontsize = 20)\n",
    "plt.xticks(fontsize = 15)\n",
    "plt.text(-.15, .12, '9.6%', fontsize = 20)\n",
    "plt.text(.85, .1, '7.3%', fontsize = 20)\n",
    "plt.ylim(0,1)\n",
    "plt.title('Percentage of Post with Text', fontsize = 20)\n",
    "plt.rc('ytick',labelsize=13);"
   ]
  },
  {
   "cell_type": "code",
   "execution_count": 12,
   "metadata": {
    "scrolled": true
   },
   "outputs": [
    {
     "name": "stdout",
     "output_type": "stream",
     "text": [
      "(591, 3)\n",
      "(991, 3)\n"
     ]
    }
   ],
   "source": [
    "# Remove Duplicates and check the shape\n",
    "rep = rep.drop_duplicates()\n",
    "dem = dem.drop_duplicates()\n",
    "print(rep.shape)\n",
    "print(dem.shape)"
   ]
  },
  {
   "cell_type": "code",
   "execution_count": 13,
   "metadata": {},
   "outputs": [
    {
     "data": {
      "text/plain": [
       "(1582, 3)"
      ]
     },
     "execution_count": 13,
     "metadata": {},
     "output_type": "execute_result"
    }
   ],
   "source": [
    "# combine two dataframes\n",
    "combine = pd.concat([rep, dem], axis = 0 )\n",
    "combine.shape"
   ]
  },
  {
   "cell_type": "code",
   "execution_count": 14,
   "metadata": {
    "scrolled": true
   },
   "outputs": [
    {
     "data": {
      "text/html": [
       "<div>\n",
       "<style scoped>\n",
       "    .dataframe tbody tr th:only-of-type {\n",
       "        vertical-align: middle;\n",
       "    }\n",
       "\n",
       "    .dataframe tbody tr th {\n",
       "        vertical-align: top;\n",
       "    }\n",
       "\n",
       "    .dataframe thead th {\n",
       "        text-align: right;\n",
       "    }\n",
       "</style>\n",
       "<table border=\"1\" class=\"dataframe\">\n",
       "  <thead>\n",
       "    <tr style=\"text-align: right;\">\n",
       "      <th></th>\n",
       "      <th>label</th>\n",
       "      <th>title</th>\n",
       "      <th>text</th>\n",
       "    </tr>\n",
       "  </thead>\n",
       "  <tbody>\n",
       "    <tr>\n",
       "      <th>0</th>\n",
       "      <td>democrats</td>\n",
       "      <td>The real national emergency is the threat of T...</td>\n",
       "      <td></td>\n",
       "    </tr>\n",
       "    <tr>\n",
       "      <th>1</th>\n",
       "      <td>Republican</td>\n",
       "      <td>Build the Wall: Go Fund Me</td>\n",
       "      <td></td>\n",
       "    </tr>\n",
       "    <tr>\n",
       "      <th>2</th>\n",
       "      <td>democrats</td>\n",
       "      <td>Could we perhaps change the community icon to ...</td>\n",
       "      <td></td>\n",
       "    </tr>\n",
       "    <tr>\n",
       "      <th>3</th>\n",
       "      <td>democrats</td>\n",
       "      <td>GOP Sens. Cruz, Rooney introduce Constitutiona...</td>\n",
       "      <td></td>\n",
       "    </tr>\n",
       "    <tr>\n",
       "      <th>4</th>\n",
       "      <td>democrats</td>\n",
       "      <td>Trump’s reign of corruption will now face real...</td>\n",
       "      <td></td>\n",
       "    </tr>\n",
       "    <tr>\n",
       "      <th>5</th>\n",
       "      <td>Republican</td>\n",
       "      <td>New York gun bill requires purchasers to surre...</td>\n",
       "      <td></td>\n",
       "    </tr>\n",
       "    <tr>\n",
       "      <th>6</th>\n",
       "      <td>democrats</td>\n",
       "      <td>And here's yet more grist for this argument: F...</td>\n",
       "      <td></td>\n",
       "    </tr>\n",
       "    <tr>\n",
       "      <th>7</th>\n",
       "      <td>democrats</td>\n",
       "      <td>Top Democratic committee lawyers to consider s...</td>\n",
       "      <td></td>\n",
       "    </tr>\n",
       "    <tr>\n",
       "      <th>8</th>\n",
       "      <td>democrats</td>\n",
       "      <td>Michael McFaul: \"This tweet is disgusting and ...</td>\n",
       "      <td></td>\n",
       "    </tr>\n",
       "    <tr>\n",
       "      <th>9</th>\n",
       "      <td>Republican</td>\n",
       "      <td>Rhode Island students are suing the governor a...</td>\n",
       "      <td></td>\n",
       "    </tr>\n",
       "  </tbody>\n",
       "</table>\n",
       "</div>"
      ],
      "text/plain": [
       "        label                                              title text\n",
       "0   democrats  The real national emergency is the threat of T...     \n",
       "1  Republican                         Build the Wall: Go Fund Me     \n",
       "2   democrats  Could we perhaps change the community icon to ...     \n",
       "3   democrats  GOP Sens. Cruz, Rooney introduce Constitutiona...     \n",
       "4   democrats  Trump’s reign of corruption will now face real...     \n",
       "5  Republican  New York gun bill requires purchasers to surre...     \n",
       "6   democrats  And here's yet more grist for this argument: F...     \n",
       "7   democrats  Top Democratic committee lawyers to consider s...     \n",
       "8   democrats  Michael McFaul: \"This tweet is disgusting and ...     \n",
       "9  Republican  Rhode Island students are suing the governor a...     "
      ]
     },
     "execution_count": 14,
     "metadata": {},
     "output_type": "execute_result"
    }
   ],
   "source": [
    "# Shuffle the data and reset the index\n",
    "combine = shuffle(combine, random_state = 30)\n",
    "combine.reset_index(drop=True, inplace=True)\n",
    "combine.head(10)"
   ]
  },
  {
   "cell_type": "markdown",
   "metadata": {},
   "source": [
    "# 2. Data Cleaning"
   ]
  },
  {
   "cell_type": "code",
   "execution_count": 15,
   "metadata": {},
   "outputs": [],
   "source": [
    "# Change label to republican = 1 and democrats = 0\n",
    "# remove punctuations in title\n",
    "# Combined title and text\n",
    "def clean(df):\n",
    "    df['label'] = df['label'].map(lambda label: 1 if label == 'Republican' else 0)\n",
    "    df['text'] = [re.sub(r'http\\S+', '',i) for i in df['text']]\n",
    "    df['text'] = [re.sub(\"[^A-z']\", \" \", i) for i in df['text']]\n",
    "    df['title'] = [re.sub(\"[^A-z']\", \" \", i) for i in df['title']]\n",
    "    df['title * text'] = df['title'] + df['text']\n",
    "    df.drop(['title', 'text'], axis = 1, inplace = True)\n",
    "    return(df)"
   ]
  },
  {
   "cell_type": "code",
   "execution_count": 16,
   "metadata": {},
   "outputs": [
    {
     "data": {
      "text/html": [
       "<div>\n",
       "<style scoped>\n",
       "    .dataframe tbody tr th:only-of-type {\n",
       "        vertical-align: middle;\n",
       "    }\n",
       "\n",
       "    .dataframe tbody tr th {\n",
       "        vertical-align: top;\n",
       "    }\n",
       "\n",
       "    .dataframe thead th {\n",
       "        text-align: right;\n",
       "    }\n",
       "</style>\n",
       "<table border=\"1\" class=\"dataframe\">\n",
       "  <thead>\n",
       "    <tr style=\"text-align: right;\">\n",
       "      <th></th>\n",
       "      <th>label</th>\n",
       "      <th>title * text</th>\n",
       "    </tr>\n",
       "  </thead>\n",
       "  <tbody>\n",
       "    <tr>\n",
       "      <th>0</th>\n",
       "      <td>0</td>\n",
       "      <td>The real national emergency is the threat of T...</td>\n",
       "    </tr>\n",
       "    <tr>\n",
       "      <th>1</th>\n",
       "      <td>1</td>\n",
       "      <td>Build the Wall  Go Fund Me</td>\n",
       "    </tr>\n",
       "    <tr>\n",
       "      <th>2</th>\n",
       "      <td>0</td>\n",
       "      <td>Could we perhaps change the community icon to ...</td>\n",
       "    </tr>\n",
       "    <tr>\n",
       "      <th>3</th>\n",
       "      <td>0</td>\n",
       "      <td>GOP Sens  Cruz  Rooney introduce Constitutiona...</td>\n",
       "    </tr>\n",
       "    <tr>\n",
       "      <th>4</th>\n",
       "      <td>0</td>\n",
       "      <td>Trump s reign of corruption will now face real...</td>\n",
       "    </tr>\n",
       "  </tbody>\n",
       "</table>\n",
       "</div>"
      ],
      "text/plain": [
       "   label                                       title * text\n",
       "0      0  The real national emergency is the threat of T...\n",
       "1      1                         Build the Wall  Go Fund Me\n",
       "2      0  Could we perhaps change the community icon to ...\n",
       "3      0  GOP Sens  Cruz  Rooney introduce Constitutiona...\n",
       "4      0  Trump s reign of corruption will now face real..."
      ]
     },
     "execution_count": 16,
     "metadata": {},
     "output_type": "execute_result"
    }
   ],
   "source": [
    "# Save the clean data and check the data\n",
    "combine_clean = clean(combine)\n",
    "combine_clean.head()"
   ]
  },
  {
   "cell_type": "markdown",
   "metadata": {},
   "source": [
    "# 3. Train/Test Split"
   ]
  },
  {
   "cell_type": "code",
   "execution_count": 17,
   "metadata": {},
   "outputs": [],
   "source": [
    "# Set feature and predictor\n",
    "X = combine_clean['title * text']\n",
    "y = combine_clean['label']"
   ]
  },
  {
   "cell_type": "code",
   "execution_count": 18,
   "metadata": {},
   "outputs": [],
   "source": [
    "# Train/Test split\n",
    "X_train, X_test, y_train, y_test = train_test_split(X, y, stratify = y, test_size = .2, random_state = 42)"
   ]
  },
  {
   "cell_type": "code",
   "execution_count": 17,
   "metadata": {},
   "outputs": [
    {
     "data": {
      "image/png": "[encoded data removed]",
      "text/plain": [
       "<Figure size 576x576 with 1 Axes>"
      ]
     },
     "metadata": {},
     "output_type": "display_data"
    }
   ],
   "source": [
    "# Plot the top words in countvectorizer\n",
    "cv = CountVectorizer(stop_words='english')\n",
    "word_cv = pd.DataFrame(cv.fit_transform(X_train).toarray(), index = X_train.index, columns = cv.get_feature_names())\n",
    "\n",
    "word_cv.sum().sort_values(ascending = False).head(10).plot(kind = 'barh', figsize = (8,8))\n",
    "plt.title(\"CountVectorizer\", fontsize = 20)\n",
    "plt.xlabel(\"Frequency\", fontsize = 15);"
   ]
  },
  {
   "cell_type": "code",
   "execution_count": 21,
   "metadata": {},
   "outputs": [
    {
     "data": {
      "image/png": "[encoded data removed]",
      "text/plain": [
       "<Figure size 576x576 with 1 Axes>"
      ]
     },
     "metadata": {},
     "output_type": "display_data"
    }
   ],
   "source": [
    "# Plot the top words in Tf-idfvectorizer\n",
    "tf = TfidfVectorizer(stop_words='english')\n",
    "\n",
    "word_tf = pd.DataFrame(tf.fit_transform(X_train).toarray(), index = X_train.index, columns = tf.get_feature_names())\n",
    "\n",
    "word_tf.sum().sort_values(ascending = False).head(10).plot(kind = 'barh',figsize = (8,8))\n",
    "plt.title(\"Tf-idf Vectorizer\", fontsize = 20)\n",
    "plt.xlabel(\"Tf-idf Score (Sum)\", fontsize = 15);"
   ]
  },
  {
   "cell_type": "markdown",
   "metadata": {},
   "source": [
    "# 4. Modeling\n",
    "\n",
    "##  4.1 Logistic Regression with Count Vectorizor"
   ]
  },
  {
   "cell_type": "code",
   "execution_count": 19,
   "metadata": {},
   "outputs": [],
   "source": [
    "# Create a pipeline of preprocessing and modeling\n",
    "feature = Pipeline([\n",
    "    ('cv', CountVectorizer(stop_words='english')),\n",
    "    ('logreg', LogisticRegression(penalty='l1', random_state = 42))\n",
    "])\n",
    "\n",
    "param = {\n",
    "    'cv__max_features': np.arange(50, 500, 10),\n",
    "    'cv__ngram_range': [(1,1), (1,2), (1,3)],\n",
    "    'logreg__C': np.arange(1,100, 1)\n",
    "}"
   ]
  },
  {
   "cell_type": "code",
   "execution_count": 20,
   "metadata": {},
   "outputs": [
    {
     "data": {
      "text/plain": [
       "{'logreg__C': 3, 'cv__ngram_range': (1, 3), 'cv__max_features': 210}"
      ]
     },
     "execution_count": 20,
     "metadata": {},
     "output_type": "execute_result"
    }
   ],
   "source": [
    "# Perform randomize grid search and fit the model\n",
    "# Print the best parameters \n",
    "gs_logreg_cv = RandomizedSearchCV(feature, param, cv=5)\n",
    "\n",
    "gs_logreg_cv.fit(X_train, y_train)\n",
    "gs_logreg_cv.best_params_"
   ]
  },
  {
   "cell_type": "code",
   "execution_count": 21,
   "metadata": {},
   "outputs": [
    {
     "name": "stdout",
     "output_type": "stream",
     "text": [
      "0.7837150127226463\n",
      "0.7201017811704835\n"
     ]
    }
   ],
   "source": [
    "# Check the train/test scores\n",
    "print(gs_logreg_cv.score(X_train, y_train))\n",
    "print(gs_logreg_cv.score(X_test, y_test))"
   ]
  },
  {
   "cell_type": "markdown",
   "metadata": {},
   "source": [
    "## 4.2 Logistic Regression with Tf-idf Vectorizor"
   ]
  },
  {
   "cell_type": "code",
   "execution_count": 22,
   "metadata": {},
   "outputs": [],
   "source": [
    "# Create a pipeline of preprocessing and modeling\n",
    "feature = Pipeline([\n",
    "    ('td', TfidfVectorizer(stop_words='english')),\n",
    "    ('logreg', LogisticRegression(penalty='l1', random_state = 42))\n",
    "])\n",
    "\n",
    "param = {\n",
    "    'td__max_features': np.arange(50, 500, 10),\n",
    "    'td__ngram_range': [(1,1), (1,2), (1,3)],\n",
    "    'td__min_df': np.arange(1, 5, 1),\n",
    "    'logreg__C': np.arange(1,100, 1)\n",
    "}"
   ]
  },
  {
   "cell_type": "code",
   "execution_count": 23,
   "metadata": {},
   "outputs": [
    {
     "data": {
      "text/plain": [
       "{'td__ngram_range': (1, 2),\n",
       " 'td__min_df': 4,\n",
       " 'td__max_features': 160,\n",
       " 'logreg__C': 90}"
      ]
     },
     "execution_count": 23,
     "metadata": {},
     "output_type": "execute_result"
    }
   ],
   "source": [
    "# Perform randomize grid search and fit the model\n",
    "# Print the best parameters \n",
    "gs_logreg_td = RandomizedSearchCV(feature, param, cv=5)\n",
    "\n",
    "gs_logreg_td.fit(X_train, y_train)\n",
    "gs_logreg_td.best_params_"
   ]
  },
  {
   "cell_type": "code",
   "execution_count": 24,
   "metadata": {},
   "outputs": [
    {
     "name": "stdout",
     "output_type": "stream",
     "text": [
      "0.7538167938931297\n",
      "0.6793893129770993\n"
     ]
    }
   ],
   "source": [
    "# Check the train/test scores\n",
    "print(gs_logreg_td.score(X_train, y_train))\n",
    "print(gs_logreg_td.score(X_test, y_test))"
   ]
  },
  {
   "cell_type": "markdown",
   "metadata": {},
   "source": [
    "## 4.3 Naive Bayes with Count Vectorizor"
   ]
  },
  {
   "cell_type": "code",
   "execution_count": 25,
   "metadata": {},
   "outputs": [],
   "source": [
    "# Create a pipeline of preprocessing and modeling\n",
    "feature = Pipeline([\n",
    "    ('cv', CountVectorizer(stop_words='english')),\n",
    "    ('nb', MultinomialNB())\n",
    "])\n",
    "\n",
    "param = {\n",
    "    'cv__max_features': np.arange(50, 500, 5),\n",
    "    'cv__ngram_range': [(1,1), (1,2), (1,3)]\n",
    "}"
   ]
  },
  {
   "cell_type": "code",
   "execution_count": 26,
   "metadata": {},
   "outputs": [
    {
     "data": {
      "text/plain": [
       "{'cv__ngram_range': (1, 3), 'cv__max_features': 340}"
      ]
     },
     "execution_count": 26,
     "metadata": {},
     "output_type": "execute_result"
    }
   ],
   "source": [
    "# Perform randomize grid search and fit the model\n",
    "# Print the best parameters \n",
    "gs_nb_cv = RandomizedSearchCV(feature, param, cv=3)\n",
    "\n",
    "gs_nb_cv.fit(X_train, y_train)\n",
    "gs_nb_cv.best_params_"
   ]
  },
  {
   "cell_type": "code",
   "execution_count": 27,
   "metadata": {
    "scrolled": false
   },
   "outputs": [
    {
     "name": "stdout",
     "output_type": "stream",
     "text": [
      "0.7092875318066157\n",
      "0.7048346055979644\n"
     ]
    }
   ],
   "source": [
    "# Check the train/test scores\n",
    "print(gs_nb_cv.score(X_train, y_train))\n",
    "print(gs_nb_cv.score(X_test, y_test))"
   ]
  },
  {
   "cell_type": "markdown",
   "metadata": {},
   "source": [
    "## 4.4 Naive Bayes with Tf-idf Vectorizor"
   ]
  },
  {
   "cell_type": "code",
   "execution_count": 28,
   "metadata": {},
   "outputs": [],
   "source": [
    "# Create a pipeline of preprocessing and modeling\n",
    "feature = Pipeline([\n",
    "    ('td', TfidfVectorizer(stop_words='english')),\n",
    "    ('nb', MultinomialNB())\n",
    "])\n",
    "\n",
    "param = {\n",
    "    'td__max_features': np.arange(50, 500, 10),\n",
    "    'td__ngram_range': [(1,1), (1,2), (1,3)],\n",
    "}"
   ]
  },
  {
   "cell_type": "code",
   "execution_count": 29,
   "metadata": {},
   "outputs": [
    {
     "data": {
      "text/plain": [
       "{'td__ngram_range': (1, 3), 'td__max_features': 460}"
      ]
     },
     "execution_count": 29,
     "metadata": {},
     "output_type": "execute_result"
    }
   ],
   "source": [
    "# Perform randomize grid search and fit the model\n",
    "# Print the best parameters \n",
    "gs_nb_td = RandomizedSearchCV(feature, param, cv=5)\n",
    "\n",
    "gs_nb_td.fit(X_train, y_train)\n",
    "gs_nb_td.best_params_"
   ]
  },
  {
   "cell_type": "code",
   "execution_count": 30,
   "metadata": {},
   "outputs": [
    {
     "name": "stdout",
     "output_type": "stream",
     "text": [
      "0.7620865139949109\n",
      "0.7073791348600509\n"
     ]
    }
   ],
   "source": [
    "# Check the train/test scores\n",
    "print(gs_nb_td.score(X_train, y_train))\n",
    "print(gs_nb_td.score(X_test, y_test))"
   ]
  },
  {
   "cell_type": "markdown",
   "metadata": {},
   "source": [
    "## 4.5 Random Forest with Count Vectorizer"
   ]
  },
  {
   "cell_type": "code",
   "execution_count": 31,
   "metadata": {},
   "outputs": [],
   "source": [
    "# Create a pipeline of preprocessing and modeling\n",
    "feature = Pipeline([\n",
    "    ('cv', CountVectorizer(stop_words='english')),\n",
    "    ('rf', RandomForestClassifier(random_state = 42))\n",
    "])\n",
    "\n",
    "param = {\n",
    "    'cv__max_features': np.arange(50, 500, 10),\n",
    "    'cv__ngram_range': [(1,1), (1,2), (1,3)],\n",
    "    'rf__max_depth': np.arange(1,10, 1)\n",
    "}"
   ]
  },
  {
   "cell_type": "code",
   "execution_count": 32,
   "metadata": {},
   "outputs": [
    {
     "data": {
      "text/plain": [
       "{'rf__max_depth': 8, 'cv__ngram_range': (1, 1), 'cv__max_features': 260}"
      ]
     },
     "execution_count": 32,
     "metadata": {},
     "output_type": "execute_result"
    }
   ],
   "source": [
    "# Perform randomize grid search and fit the model\n",
    "# Print the best parameters \n",
    "gs_rf_cv = RandomizedSearchCV(feature, param, cv=5)\n",
    "\n",
    "gs_rf_cv.fit(X_train, y_train)\n",
    "gs_rf_cv.best_params_"
   ]
  },
  {
   "cell_type": "code",
   "execution_count": 33,
   "metadata": {
    "scrolled": true
   },
   "outputs": [
    {
     "name": "stdout",
     "output_type": "stream",
     "text": [
      "0.7417302798982188\n",
      "0.6997455470737913\n"
     ]
    }
   ],
   "source": [
    "# Check the train/test scores\n",
    "print(gs_rf_cv.score(X_train, y_train))\n",
    "print(gs_rf_cv.score(X_test, y_test))"
   ]
  },
  {
   "cell_type": "markdown",
   "metadata": {},
   "source": [
    "## 4.6 Random Forest with Tf-idf Vectorizer"
   ]
  },
  {
   "cell_type": "code",
   "execution_count": 34,
   "metadata": {},
   "outputs": [],
   "source": [
    "# Create a pipeline of preprocessing and modeling\n",
    "feature = Pipeline([\n",
    "    ('td', TfidfVectorizer(stop_words='english')),\n",
    "    ('rf', RandomForestClassifier(random_state = 42))\n",
    "])\n",
    "\n",
    "param = {\n",
    "    'td__max_features': np.arange(50, 500, 10),\n",
    "    'td__ngram_range': [(1,1), (1,2), (1,3)],\n",
    "    'rf__max_depth': np.arange(1,10, 1)\n",
    "}"
   ]
  },
  {
   "cell_type": "code",
   "execution_count": 35,
   "metadata": {},
   "outputs": [
    {
     "data": {
      "text/plain": [
       "{'td__ngram_range': (1, 1), 'td__max_features': 490, 'rf__max_depth': 7}"
      ]
     },
     "execution_count": 35,
     "metadata": {},
     "output_type": "execute_result"
    }
   ],
   "source": [
    "# Perform randomize grid search and fit the model\n",
    "# Print the best parameters \n",
    "gs_rf_td = RandomizedSearchCV(feature, param, cv=5)\n",
    "\n",
    "gs_rf_td.fit(X_train, y_train)\n",
    "gs_rf_td.best_params_"
   ]
  },
  {
   "cell_type": "code",
   "execution_count": 36,
   "metadata": {
    "scrolled": true
   },
   "outputs": [
    {
     "name": "stdout",
     "output_type": "stream",
     "text": [
      "0.7576335877862596\n",
      "0.7073791348600509\n"
     ]
    }
   ],
   "source": [
    "# Check the train/test scores\n",
    "print(gs_rf_td.score(X_train, y_train))\n",
    "print(gs_rf_td.score(X_test, y_test))"
   ]
  },
  {
   "cell_type": "markdown",
   "metadata": {},
   "source": [
    "# 5. Selecting Model"
   ]
  },
  {
   "cell_type": "code",
   "execution_count": 37,
   "metadata": {},
   "outputs": [],
   "source": [
    "# Get all the train and test scores for different models\n",
    "name = ['Logistic', 'Naive Bayes', 'Random Forest']\n",
    "cv_score = {'Train': [gs_logreg_cv.score(X_train, y_train), \n",
    "                  gs_nb_cv.score(X_train, y_train),\n",
    "                 gs_rf_cv.score(X_train, y_train)],\n",
    "            'Test':[gs_logreg_cv.score(X_test, y_test), \n",
    "                  gs_nb_cv.score(X_test, y_test),\n",
    "                 gs_rf_cv.score(X_test, y_test)]}"
   ]
  },
  {
   "cell_type": "code",
   "execution_count": 38,
   "metadata": {},
   "outputs": [],
   "source": [
    "# Get all the train and test scores for different models\n",
    "tf_score = {'Train':[gs_logreg_td.score(X_train, y_train), \n",
    "                          gs_nb_td.score(X_train, y_train),\n",
    "                          gs_rf_td.score(X_train, y_train)],\n",
    "            'Test':[gs_logreg_td.score(X_test, y_test), \n",
    "                         gs_nb_td.score(X_test, y_test),\n",
    "                         gs_rf_td.score(X_test, y_test)]}"
   ]
  },
  {
   "cell_type": "code",
   "execution_count": 39,
   "metadata": {},
   "outputs": [
    {
     "data": {
      "text/html": [
       "<div>\n",
       "<style scoped>\n",
       "    .dataframe tbody tr th:only-of-type {\n",
       "        vertical-align: middle;\n",
       "    }\n",
       "\n",
       "    .dataframe tbody tr th {\n",
       "        vertical-align: top;\n",
       "    }\n",
       "\n",
       "    .dataframe thead th {\n",
       "        text-align: right;\n",
       "    }\n",
       "</style>\n",
       "<table border=\"1\" class=\"dataframe\">\n",
       "  <thead>\n",
       "    <tr style=\"text-align: right;\">\n",
       "      <th></th>\n",
       "      <th>Train</th>\n",
       "      <th>Test</th>\n",
       "    </tr>\n",
       "  </thead>\n",
       "  <tbody>\n",
       "    <tr>\n",
       "      <th>Logistic</th>\n",
       "      <td>0.783715</td>\n",
       "      <td>0.720102</td>\n",
       "    </tr>\n",
       "    <tr>\n",
       "      <th>Naive Bayes</th>\n",
       "      <td>0.709288</td>\n",
       "      <td>0.704835</td>\n",
       "    </tr>\n",
       "    <tr>\n",
       "      <th>Random Forest</th>\n",
       "      <td>0.741730</td>\n",
       "      <td>0.699746</td>\n",
       "    </tr>\n",
       "  </tbody>\n",
       "</table>\n",
       "</div>"
      ],
      "text/plain": [
       "                  Train      Test\n",
       "Logistic       0.783715  0.720102\n",
       "Naive Bayes    0.709288  0.704835\n",
       "Random Forest  0.741730  0.699746"
      ]
     },
     "execution_count": 39,
     "metadata": {},
     "output_type": "execute_result"
    }
   ],
   "source": [
    "# Create a table and compare models for CountVectorizer\n",
    "result_cv = pd.DataFrame(cv_score, index=name)\n",
    "result_cv"
   ]
  },
  {
   "cell_type": "code",
   "execution_count": 40,
   "metadata": {},
   "outputs": [
    {
     "data": {
      "text/html": [
       "<div>\n",
       "<style scoped>\n",
       "    .dataframe tbody tr th:only-of-type {\n",
       "        vertical-align: middle;\n",
       "    }\n",
       "\n",
       "    .dataframe tbody tr th {\n",
       "        vertical-align: top;\n",
       "    }\n",
       "\n",
       "    .dataframe thead th {\n",
       "        text-align: right;\n",
       "    }\n",
       "</style>\n",
       "<table border=\"1\" class=\"dataframe\">\n",
       "  <thead>\n",
       "    <tr style=\"text-align: right;\">\n",
       "      <th></th>\n",
       "      <th>Train</th>\n",
       "      <th>Test</th>\n",
       "    </tr>\n",
       "  </thead>\n",
       "  <tbody>\n",
       "    <tr>\n",
       "      <th>Logistic</th>\n",
       "      <td>0.753817</td>\n",
       "      <td>0.679389</td>\n",
       "    </tr>\n",
       "    <tr>\n",
       "      <th>Naive Bayes</th>\n",
       "      <td>0.762087</td>\n",
       "      <td>0.707379</td>\n",
       "    </tr>\n",
       "    <tr>\n",
       "      <th>Random Forest</th>\n",
       "      <td>0.757634</td>\n",
       "      <td>0.707379</td>\n",
       "    </tr>\n",
       "  </tbody>\n",
       "</table>\n",
       "</div>"
      ],
      "text/plain": [
       "                  Train      Test\n",
       "Logistic       0.753817  0.679389\n",
       "Naive Bayes    0.762087  0.707379\n",
       "Random Forest  0.757634  0.707379"
      ]
     },
     "execution_count": 40,
     "metadata": {},
     "output_type": "execute_result"
    }
   ],
   "source": [
    "# Create a table and compare models for Tf-idf Vectorizer\n",
    "result_tf = pd.DataFrame(tf_score, index=name)\n",
    "result_tf"
   ]
  },
  {
   "cell_type": "code",
   "execution_count": 41,
   "metadata": {
    "scrolled": false
   },
   "outputs": [
    {
     "data": {
      "image/png": "[encoded data removed]",
      "text/plain": [
       "<Figure size 576x576 with 1 Axes>"
      ]
     },
     "metadata": {},
     "output_type": "display_data"
    }
   ],
   "source": [
    "# Plot both train and test scores with Count Vectorizer\n",
    "result_cv.plot(kind='bar', rot= 0, figsize=(8,8))\n",
    "plt.ylabel('Accuracy Score', fontsize = 15)\n",
    "plt.xticks(fontsize = 15)\n",
    "plt.title('Models with CountVectorizer', fontsize = 20)\n",
    "plt.rc('ytick',labelsize=13)\n",
    "plt.ylim(0,.9);"
   ]
  },
  {
   "cell_type": "code",
   "execution_count": 42,
   "metadata": {},
   "outputs": [
    {
     "data": {
      "image/png": "[encoded data removed]",
      "text/plain": [
       "<Figure size 576x576 with 1 Axes>"
      ]
     },
     "metadata": {},
     "output_type": "display_data"
    }
   ],
   "source": [
    "# Plot both train and test scores with Tf-idf Vectorizer\n",
    "result_tf.plot(kind='bar', rot= 0, figsize=(8,8))\n",
    "plt.ylabel('Accuracy Score', fontsize = 15)\n",
    "plt.xticks(fontsize = 15)\n",
    "plt.title('Models with Tf-idf', fontsize = 20)\n",
    "plt.rc('ytick',labelsize=13)\n",
    "plt.ylim(0,0.9);"
   ]
  },
  {
   "cell_type": "markdown",
   "metadata": {},
   "source": [
    "# 6. Tuning\n",
    "\n",
    "## 6.1 Random Forest (Tf)"
   ]
  },
  {
   "cell_type": "code",
   "execution_count": 43,
   "metadata": {},
   "outputs": [],
   "source": [
    "# Try different parameters\n",
    "feature = Pipeline([\n",
    "    ('tf', TfidfVectorizer(stop_words='english')),\n",
    "    ('rf', RandomForestClassifier(random_state = 75))\n",
    "])\n",
    "\n",
    "param = {\n",
    "    'tf__max_features': np.arange(455, 460, 1),\n",
    "    'tf__ngram_range': [(1,2)],\n",
    "    'tf__min_df': [2],\n",
    "    'rf__max_depth': np.arange(9,12, 1)\n",
    "}"
   ]
  },
  {
   "cell_type": "code",
   "execution_count": 44,
   "metadata": {
    "scrolled": false
   },
   "outputs": [
    {
     "name": "stdout",
     "output_type": "stream",
     "text": [
      "Fitting 5 folds for each of 15 candidates, totalling 75 fits\n"
     ]
    },
    {
     "name": "stderr",
     "output_type": "stream",
     "text": [
      "[Parallel(n_jobs=3)]: Using backend LokyBackend with 3 concurrent workers.\n",
      "[Parallel(n_jobs=3)]: Done  35 tasks      | elapsed:    5.2s\n",
      "[Parallel(n_jobs=3)]: Done  75 out of  75 | elapsed:    8.8s finished\n"
     ]
    },
    {
     "data": {
      "text/plain": [
       "{'rf__max_depth': 11,\n",
       " 'tf__max_features': 456,\n",
       " 'tf__min_df': 2,\n",
       " 'tf__ngram_range': (1, 2)}"
      ]
     },
     "execution_count": 44,
     "metadata": {},
     "output_type": "execute_result"
    }
   ],
   "source": [
    "# Perform grid search and fit the model\n",
    "# Print the best parameters \n",
    "gs_rf_tf = GridSearchCV(feature, param, cv=5, n_jobs=3, verbose=2)\n",
    "\n",
    "gs_rf_tf.fit(X_train, y_train)\n",
    "gs_rf_tf.best_params_"
   ]
  },
  {
   "cell_type": "code",
   "execution_count": 45,
   "metadata": {
    "scrolled": false
   },
   "outputs": [
    {
     "name": "stdout",
     "output_type": "stream",
     "text": [
      "0.7550890585241731\n",
      "0.7175572519083969\n"
     ]
    }
   ],
   "source": [
    "# Check the train/test scores\n",
    "print(gs_rf_tf.score(X_train, y_train))\n",
    "print(gs_rf_tf.score(X_test, y_test))"
   ]
  },
  {
   "cell_type": "code",
   "execution_count": 46,
   "metadata": {},
   "outputs": [
    {
     "data": {
      "text/html": [
       "<div>\n",
       "<style scoped>\n",
       "    .dataframe tbody tr th:only-of-type {\n",
       "        vertical-align: middle;\n",
       "    }\n",
       "\n",
       "    .dataframe tbody tr th {\n",
       "        vertical-align: top;\n",
       "    }\n",
       "\n",
       "    .dataframe thead th {\n",
       "        text-align: right;\n",
       "    }\n",
       "</style>\n",
       "<table border=\"1\" class=\"dataframe\">\n",
       "  <thead>\n",
       "    <tr style=\"text-align: right;\">\n",
       "      <th></th>\n",
       "      <th>Train</th>\n",
       "      <th>Test</th>\n",
       "    </tr>\n",
       "  </thead>\n",
       "  <tbody>\n",
       "    <tr>\n",
       "      <th>455</th>\n",
       "      <td>0.746183</td>\n",
       "      <td>0.689567</td>\n",
       "    </tr>\n",
       "    <tr>\n",
       "      <th>456</th>\n",
       "      <td>0.746183</td>\n",
       "      <td>0.684478</td>\n",
       "    </tr>\n",
       "    <tr>\n",
       "      <th>457</th>\n",
       "      <td>0.725191</td>\n",
       "      <td>0.676845</td>\n",
       "    </tr>\n",
       "    <tr>\n",
       "      <th>458</th>\n",
       "      <td>0.743639</td>\n",
       "      <td>0.692112</td>\n",
       "    </tr>\n",
       "    <tr>\n",
       "      <th>459</th>\n",
       "      <td>0.743003</td>\n",
       "      <td>0.727735</td>\n",
       "    </tr>\n",
       "    <tr>\n",
       "      <th>460</th>\n",
       "      <td>0.772901</td>\n",
       "      <td>0.699746</td>\n",
       "    </tr>\n",
       "    <tr>\n",
       "      <th>461</th>\n",
       "      <td>0.752545</td>\n",
       "      <td>0.694656</td>\n",
       "    </tr>\n",
       "    <tr>\n",
       "      <th>462</th>\n",
       "      <td>0.731552</td>\n",
       "      <td>0.699746</td>\n",
       "    </tr>\n",
       "    <tr>\n",
       "      <th>463</th>\n",
       "      <td>0.769720</td>\n",
       "      <td>0.704835</td>\n",
       "    </tr>\n",
       "    <tr>\n",
       "      <th>464</th>\n",
       "      <td>0.744911</td>\n",
       "      <td>0.676845</td>\n",
       "    </tr>\n",
       "    <tr>\n",
       "      <th>465</th>\n",
       "      <td>0.777354</td>\n",
       "      <td>0.697201</td>\n",
       "    </tr>\n",
       "  </tbody>\n",
       "</table>\n",
       "</div>"
      ],
      "text/plain": [
       "        Train      Test\n",
       "455  0.746183  0.689567\n",
       "456  0.746183  0.684478\n",
       "457  0.725191  0.676845\n",
       "458  0.743639  0.692112\n",
       "459  0.743003  0.727735\n",
       "460  0.772901  0.699746\n",
       "461  0.752545  0.694656\n",
       "462  0.731552  0.699746\n",
       "463  0.769720  0.704835\n",
       "464  0.744911  0.676845\n",
       "465  0.777354  0.697201"
      ]
     },
     "execution_count": 46,
     "metadata": {},
     "output_type": "execute_result"
    }
   ],
   "source": [
    "# Create function to get all train and test scores using different number of features\n",
    "def get_score_rf(X_train, X_test, y_train, y_test):\n",
    "    train_score = []\n",
    "    test_score = []\n",
    "    for i in np.arange(455,466,1):\n",
    "        tf = TfidfVectorizer(stop_words='english', ngram_range=(1,2), min_df=2, max_features=i)\n",
    "        rf = RandomForestClassifier(max_depth=9, random_state = 75)\n",
    "        X_features_tr = pd.DataFrame(tf.fit_transform(X_train).toarray(), columns=tf.get_feature_names())\n",
    "        X_features_ts = pd.DataFrame(tf.transform(X_test).toarray(), columns=tf.get_feature_names())\n",
    "        model = rf.fit(X_features_tr, y_train)\n",
    "        train_score.append(model.score(X_features_tr, y_train))\n",
    "        test_score.append(model.score(X_features_ts, y_test))\n",
    "    df_dic = {'Train': train_score,\n",
    "             'Test': test_score}\n",
    "    df = pd.DataFrame(df_dic, index=np.arange(455,466,1))\n",
    "    return(df)\n",
    "\n",
    "rf_scores = get_score_rf(X_train, X_test, y_train, y_test)\n",
    "rf_scores"
   ]
  },
  {
   "cell_type": "code",
   "execution_count": 47,
   "metadata": {},
   "outputs": [
    {
     "data": {
      "image/png": "[encoded data removed]",
      "text/plain": [
       "<Figure size 720x576 with 1 Axes>"
      ]
     },
     "metadata": {},
     "output_type": "display_data"
    }
   ],
   "source": [
    "# Plot the Scores\n",
    "plt.figure(figsize = (10,8))\n",
    "plt.plot(rf_scores['Train'])\n",
    "plt.plot(rf_scores['Test'])\n",
    "plt.xlabel('Number of Features', fontsize = 15)\n",
    "plt.ylabel('Accuracy Score', fontsize = 15)\n",
    "plt.title(\"Random Forest with Tf-idf Scores\", fontsize = 20)\n",
    "plt.legend(prop={'size': 15})\n",
    "plt.rc('xtick',labelsize=15)\n",
    "plt.rc('ytick',labelsize=15)\n",
    "plt.ylim(0.66,0.8)\n",
    "plt.vlines(459, ymin=.66, ymax=.8, linestyles='--');"
   ]
  },
  {
   "cell_type": "markdown",
   "metadata": {},
   "source": [
    "## 6.2 Logistic regression (Tf)"
   ]
  },
  {
   "cell_type": "code",
   "execution_count": 48,
   "metadata": {},
   "outputs": [],
   "source": [
    "# Try different parameters\n",
    "feature = Pipeline([\n",
    "    ('tf', TfidfVectorizer(stop_words='english')),\n",
    "    ('logreg', LogisticRegression(penalty='l1', random_state = 42))\n",
    "])\n",
    "\n",
    "param = {\n",
    "    'tf__max_features': np.arange(235, 250, 1),\n",
    "    'tf__ngram_range': [(1,2), (1,3)],\n",
    "    'tf__min_df': [2, 3],\n",
    "    'logreg__C': np.arange(1,3, 1)\n",
    "}"
   ]
  },
  {
   "cell_type": "code",
   "execution_count": 49,
   "metadata": {},
   "outputs": [
    {
     "name": "stdout",
     "output_type": "stream",
     "text": [
      "Fitting 5 folds for each of 120 candidates, totalling 600 fits\n"
     ]
    },
    {
     "name": "stderr",
     "output_type": "stream",
     "text": [
      "[Parallel(n_jobs=3)]: Using backend LokyBackend with 3 concurrent workers.\n",
      "[Parallel(n_jobs=3)]: Done  35 tasks      | elapsed:    3.8s\n",
      "[Parallel(n_jobs=3)]: Done 156 tasks      | elapsed:   16.9s\n",
      "[Parallel(n_jobs=3)]: Done 359 tasks      | elapsed:   38.3s\n",
      "[Parallel(n_jobs=3)]: Done 600 out of 600 | elapsed:  1.1min finished\n"
     ]
    },
    {
     "data": {
      "text/plain": [
       "{'logreg__C': 1,\n",
       " 'tf__max_features': 244,\n",
       " 'tf__min_df': 3,\n",
       " 'tf__ngram_range': (1, 2)}"
      ]
     },
     "execution_count": 49,
     "metadata": {},
     "output_type": "execute_result"
    }
   ],
   "source": [
    "# Perform grid search and fit the model\n",
    "# Print the best parameters \n",
    "gs_logreg_tf = GridSearchCV(feature, param, cv=5, n_jobs=3, verbose=2)\n",
    "\n",
    "gs_logreg_tf.fit(X_train, y_train)\n",
    "gs_logreg_tf.best_params_"
   ]
  },
  {
   "cell_type": "code",
   "execution_count": 50,
   "metadata": {},
   "outputs": [
    {
     "name": "stdout",
     "output_type": "stream",
     "text": [
      "0.767175572519084\n",
      "0.7480916030534351\n"
     ]
    }
   ],
   "source": [
    "# Check the train/test scores\n",
    "print(gs_logreg_tf.score(X_train, y_train))\n",
    "print(gs_logreg_tf.score(X_test, y_test))"
   ]
  },
  {
   "cell_type": "code",
   "execution_count": 51,
   "metadata": {},
   "outputs": [
    {
     "data": {
      "text/html": [
       "<div>\n",
       "<style scoped>\n",
       "    .dataframe tbody tr th:only-of-type {\n",
       "        vertical-align: middle;\n",
       "    }\n",
       "\n",
       "    .dataframe tbody tr th {\n",
       "        vertical-align: top;\n",
       "    }\n",
       "\n",
       "    .dataframe thead th {\n",
       "        text-align: right;\n",
       "    }\n",
       "</style>\n",
       "<table border=\"1\" class=\"dataframe\">\n",
       "  <thead>\n",
       "    <tr style=\"text-align: right;\">\n",
       "      <th></th>\n",
       "      <th>Train</th>\n",
       "      <th>Test</th>\n",
       "    </tr>\n",
       "  </thead>\n",
       "  <tbody>\n",
       "    <tr>\n",
       "      <th>240</th>\n",
       "      <td>0.761450</td>\n",
       "      <td>0.743003</td>\n",
       "    </tr>\n",
       "    <tr>\n",
       "      <th>241</th>\n",
       "      <td>0.761450</td>\n",
       "      <td>0.745547</td>\n",
       "    </tr>\n",
       "    <tr>\n",
       "      <th>242</th>\n",
       "      <td>0.762087</td>\n",
       "      <td>0.745547</td>\n",
       "    </tr>\n",
       "    <tr>\n",
       "      <th>243</th>\n",
       "      <td>0.763359</td>\n",
       "      <td>0.743003</td>\n",
       "    </tr>\n",
       "    <tr>\n",
       "      <th>244</th>\n",
       "      <td>0.762723</td>\n",
       "      <td>0.743003</td>\n",
       "    </tr>\n",
       "    <tr>\n",
       "      <th>245</th>\n",
       "      <td>0.763995</td>\n",
       "      <td>0.743003</td>\n",
       "    </tr>\n",
       "    <tr>\n",
       "      <th>246</th>\n",
       "      <td>0.763359</td>\n",
       "      <td>0.743003</td>\n",
       "    </tr>\n",
       "    <tr>\n",
       "      <th>247</th>\n",
       "      <td>0.763995</td>\n",
       "      <td>0.743003</td>\n",
       "    </tr>\n",
       "    <tr>\n",
       "      <th>248</th>\n",
       "      <td>0.763995</td>\n",
       "      <td>0.748092</td>\n",
       "    </tr>\n",
       "    <tr>\n",
       "      <th>249</th>\n",
       "      <td>0.763995</td>\n",
       "      <td>0.748092</td>\n",
       "    </tr>\n",
       "    <tr>\n",
       "      <th>250</th>\n",
       "      <td>0.763995</td>\n",
       "      <td>0.748092</td>\n",
       "    </tr>\n",
       "  </tbody>\n",
       "</table>\n",
       "</div>"
      ],
      "text/plain": [
       "        Train      Test\n",
       "240  0.761450  0.743003\n",
       "241  0.761450  0.745547\n",
       "242  0.762087  0.745547\n",
       "243  0.763359  0.743003\n",
       "244  0.762723  0.743003\n",
       "245  0.763995  0.743003\n",
       "246  0.763359  0.743003\n",
       "247  0.763995  0.743003\n",
       "248  0.763995  0.748092\n",
       "249  0.763995  0.748092\n",
       "250  0.763995  0.748092"
      ]
     },
     "execution_count": 51,
     "metadata": {},
     "output_type": "execute_result"
    }
   ],
   "source": [
    "# Create function to get all train and test scores using different number of features\n",
    "def get_score_logreg(X_train, X_test, y_train, y_test):\n",
    "    train_score = []\n",
    "    test_score = []\n",
    "    for i in np.arange(230,241,1):\n",
    "        tf = TfidfVectorizer(stop_words='english', ngram_range=(1,2), min_df=3, max_features=i)\n",
    "        logreg = LogisticRegression(penalty='l1', random_state = 42)\n",
    "        X_features_tr = pd.DataFrame(tf.fit_transform(X_train).toarray(), columns=tf.get_feature_names())\n",
    "        X_features_ts = pd.DataFrame(tf.transform(X_test).toarray(), columns=tf.get_feature_names())\n",
    "        model = logreg.fit(X_features_tr, y_train)\n",
    "        train_score.append(model.score(X_features_tr, y_train))\n",
    "        test_score.append(model.score(X_features_ts, y_test))\n",
    "    df_dic = {'Train': train_score,\n",
    "             'Test': test_score}\n",
    "    df = pd.DataFrame(df_dic, index=np.arange(240,251,1))\n",
    "    return(df)\n",
    "\n",
    "logreg_scores = get_score_logreg(X_train, X_test, y_train, y_test)\n",
    "logreg_scores"
   ]
  },
  {
   "cell_type": "code",
   "execution_count": 52,
   "metadata": {},
   "outputs": [
    {
     "data": {
      "image/png": "[encoded data removed]",
      "text/plain": [
       "<Figure size 720x576 with 1 Axes>"
      ]
     },
     "metadata": {},
     "output_type": "display_data"
    }
   ],
   "source": [
    "# Plot the Scores\n",
    "plt.figure(figsize = (10,8))\n",
    "plt.plot(logreg_scores['Train'])\n",
    "plt.plot(logreg_scores['Test'])\n",
    "plt.xlabel('Number of Features', fontsize = 15)\n",
    "plt.ylabel('Accuracy Score', fontsize = 15)\n",
    "plt.title(\"Logistic Regression with Tf-idf Scores\", fontsize = 20)\n",
    "plt.legend(prop={'size': 15})\n",
    "plt.rc('xtick',labelsize=15)\n",
    "plt.rc('ytick',labelsize=15)\n",
    "plt.ylim(0.74,0.77)\n",
    "plt.vlines(248, ymin=.74, ymax=.77, linestyles='--');"
   ]
  },
  {
   "cell_type": "markdown",
   "metadata": {},
   "source": [
    "# Result"
   ]
  },
  {
   "cell_type": "markdown",
   "metadata": {},
   "source": [
    "## Graph AUC ROC Curve"
   ]
  },
  {
   "cell_type": "code",
   "execution_count": 53,
   "metadata": {},
   "outputs": [],
   "source": [
    "#Predit the probability for both RandomForest and Logistic model\n",
    "pred_proba_rf = gs_rf_tf.predict_proba(X_test)\n",
    "pred_proba_logreg = gs_logreg_td.predict_proba(X_test)"
   ]
  },
  {
   "cell_type": "code",
   "execution_count": 54,
   "metadata": {
    "scrolled": false
   },
   "outputs": [
    {
     "data": {
      "image/png": "[encoded data removed]",
      "text/plain": [
       "<Figure size 720x576 with 1 Axes>"
      ]
     },
     "metadata": {},
     "output_type": "display_data"
    }
   ],
   "source": [
    "# Caculate the AUC and plot the ROC Curve for both models\n",
    "fpr_logreg, tpr_logreg, _ = roc_curve(y_test,  pred_proba_logreg[:,1])\n",
    "fpr_rf, tpr_rf, _ = roc_curve(y_test,  pred_proba_rf[:,1])\n",
    "auc_logreg = roc_auc_score(y_test, pred_proba_logreg[:,1])\n",
    "auc_rf = roc_auc_score(y_test, pred_proba_rf[:,1])\n",
    "\n",
    "plt.figure(figsize = (10,8))\n",
    "plt.plot(fpr_logreg,tpr_logreg,label=\"Logistic AUC=\"+str(round(auc_logreg, 3)))\n",
    "plt.plot(fpr_rf,tpr_rf,label=\"Forest AUC=\"+str(round(auc_rf, 3)))\n",
    "plt.legend(loc=4, prop={'size': 15})\n",
    "plt.title(\"Perfomance of Model (AUC ROC Curve)\", fontsize = 20)\n",
    "plt.ylabel(\"True Positive Rate\", fontsize = 15)\n",
    "plt.xlabel(\"False Positive Rate\", fontsize = 15);"
   ]
  },
  {
   "cell_type": "markdown",
   "metadata": {},
   "source": [
    "- Logistic regression model has better performance (prediction) than Random Forest model."
   ]
  },
  {
   "cell_type": "markdown",
   "metadata": {},
   "source": [
    "## Baseline and Classification Report"
   ]
  },
  {
   "cell_type": "code",
   "execution_count": 55,
   "metadata": {},
   "outputs": [
    {
     "data": {
      "text/plain": [
       "0    0.50229\n",
       "1    0.49771\n",
       "Name: label, dtype: float64"
      ]
     },
     "execution_count": 55,
     "metadata": {},
     "output_type": "execute_result"
    }
   ],
   "source": [
    "# Calculate the accuracy baseline\n",
    "combine['label'].value_counts(normalize = True)"
   ]
  },
  {
   "cell_type": "code",
   "execution_count": 56,
   "metadata": {},
   "outputs": [
    {
     "name": "stdout",
     "output_type": "stream",
     "text": [
      "              precision    recall  f1-score   support\n",
      "\n",
      "           0       0.75      0.74      0.75       197\n",
      "           1       0.74      0.76      0.75       196\n",
      "\n",
      "   micro avg       0.75      0.75      0.75       393\n",
      "   macro avg       0.75      0.75      0.75       393\n",
      "weighted avg       0.75      0.75      0.75       393\n",
      "\n"
     ]
    }
   ],
   "source": [
    "# Predict using X_test with the best logistic model\n",
    "# Create Classification table\n",
    "pred = gs_logreg_tf.predict(X_test)\n",
    "print(classification_report(y_test, pred))"
   ]
  },
  {
   "cell_type": "markdown",
   "metadata": {},
   "source": [
    "## Interpret"
   ]
  },
  {
   "cell_type": "code",
   "execution_count": 57,
   "metadata": {},
   "outputs": [
    {
     "data": {
      "text/plain": [
       "Pipeline(memory=None,\n",
       "     steps=[('td', TfidfVectorizer(analyzer='word', binary=False, decode_error='strict',\n",
       "        dtype=<class 'numpy.float64'>, encoding='utf-8', input='content',\n",
       "        lowercase=True, max_df=1.0, max_features=248, min_df=3,\n",
       "        ngram_range=(1, 2), norm='l2', preprocessor=None, smooth_idf=True,\n",
       "   ...penalty='l2', random_state=None, solver='warn',\n",
       "          tol=0.0001, verbose=0, warm_start=False))])"
      ]
     },
     "execution_count": 57,
     "metadata": {},
     "output_type": "execute_result"
    }
   ],
   "source": [
    "# Build a pipeline of Tf-idf preprocessing with logistic regression\n",
    "# Use the best parameter from the tuned logistic model\n",
    "# fit the model\n",
    "model = Pipeline([\n",
    "    ('td', TfidfVectorizer(stop_words='english', max_features=248, ngram_range=(1,2), min_df=3)),\n",
    "    ('logreg', LogisticRegression(C = 1, penalty='l1'))\n",
    "])\n",
    "\n",
    "model.fit(X_train, y_train)"
   ]
  },
  {
   "cell_type": "code",
   "execution_count": 58,
   "metadata": {},
   "outputs": [],
   "source": [
    "# Make a dataframe of the coefficients of the logistic regression\n",
    "# Make a dataframe called dem_words containing only the negative coefficient \n",
    "# Make a dataframe called rep_words containing only the positive coefficient \n",
    "coef = model.named_steps['logreg'].coef_[0]\n",
    "df = pd.DataFrame(coef, index=model.named_steps['td'].vocabulary_.keys(), columns=['Coef'])\n",
    "\n",
    "dem_words = df[df['Coef'] > -3].sort_values(by = 'Coef', ascending = False).tail(10)\n",
    "rep_words = df[df['Coef'] > .953617].sort_values(by = 'Coef', ascending = True)"
   ]
  },
  {
   "cell_type": "code",
   "execution_count": 59,
   "metadata": {},
   "outputs": [
    {
     "data": {
      "text/plain": [
       "Text(0.5, 1.0, 'Top 10 Words to Predict Democrat Subreddit')"
      ]
     },
     "execution_count": 59,
     "metadata": {},
     "output_type": "execute_result"
    },
    {
     "data": {
      "image/png": "[encoded data removed]",
      "text/plain": [
       "<Figure size 576x576 with 1 Axes>"
      ]
     },
     "metadata": {},
     "output_type": "display_data"
    }
   ],
   "source": [
    "# Plot the top 10 words with high negative coefficients\n",
    "plt.figure(figsize = (8,8))\n",
    "plt.barh(dem_words.index, abs(dem_words['Coef']))\n",
    "plt.xlabel('Negative Coefficient', fontsize = 15)\n",
    "plt.title(\"Top 10 Words to Predict Democrat Subreddit\", fontsize = 18)"
   ]
  },
  {
   "cell_type": "code",
   "execution_count": 60,
   "metadata": {},
   "outputs": [
    {
     "data": {
      "text/plain": [
       "Text(0.5, 1.0, 'Top 10 Words to Predict Republican Subreddit')"
      ]
     },
     "execution_count": 60,
     "metadata": {},
     "output_type": "execute_result"
    },
    {
     "data": {
      "image/png": "[encoded data removed]",
      "text/plain": [
       "<Figure size 576x576 with 1 Axes>"
      ]
     },
     "metadata": {},
     "output_type": "display_data"
    }
   ],
   "source": [
    "# Plot the top 10 words with high positive coefficients\n",
    "plt.figure(figsize = (8,8))\n",
    "plt.barh(rep_words.index, rep_words['Coef'])\n",
    "plt.xlabel('Coefficient', fontsize = 15)\n",
    "plt.title(\"Top 10 Words to Predict Republican Subreddit\", fontsize = 18)"
   ]
  },
  {
   "cell_type": "markdown",
   "metadata": {},
   "source": [
    "## Check Misclassification"
   ]
  },
  {
   "cell_type": "code",
   "execution_count": 61,
   "metadata": {},
   "outputs": [
    {
     "data": {
      "text/plain": [
       "Int64Index([ 896,  765, 1567, 1439, 1051, 1320, 1126,  622, 1709,  947, 1329,\n",
       "             323, 1960,  424, 1554, 1791, 1721,  903,  908,  847,   32, 1384,\n",
       "            1356, 1795, 1919,  600,   44, 1860, 1548, 1327, 1380, 1035, 1902,\n",
       "             459,  329, 1755, 1608, 1395,   29,  663, 1072,  235,   11,  665,\n",
       "            1805, 1644,  588, 1080,  279, 1751, 1746, 1610,  814,  740,  278,\n",
       "            1652,  769,   85, 1222,  624,    0,  704,  445, 1696,  324,  456,\n",
       "             173, 1280, 1068, 1237, 1299,  506,  290, 1045,  362,  673, 1634,\n",
       "             232,  369,  298,  405, 1253, 1647, 1089,  726,  377,  974,  722,\n",
       "             243, 1456, 1519, 1003, 1658,  924, 1385, 1613,  548, 1526,  774],\n",
       "           dtype='int64')"
      ]
     },
     "execution_count": 61,
     "metadata": {},
     "output_type": "execute_result"
    }
   ],
   "source": [
    "# Get the row index of misclassifies posts\n",
    "dic = {'Actual': y_test,\n",
    "      'Pred': pred}\n",
    "inc = pd.DataFrame(dic)\n",
    "\n",
    "row_ids = inc[inc['Pred'] != inc['Actual']].index\n",
    "row_ids"
   ]
  },
  {
   "cell_type": "code",
   "execution_count": 62,
   "metadata": {},
   "outputs": [
    {
     "data": {
      "text/html": [
       "<div>\n",
       "<style scoped>\n",
       "    .dataframe tbody tr th:only-of-type {\n",
       "        vertical-align: middle;\n",
       "    }\n",
       "\n",
       "    .dataframe tbody tr th {\n",
       "        vertical-align: top;\n",
       "    }\n",
       "\n",
       "    .dataframe thead th {\n",
       "        text-align: right;\n",
       "    }\n",
       "</style>\n",
       "<table border=\"1\" class=\"dataframe\">\n",
       "  <thead>\n",
       "    <tr style=\"text-align: right;\">\n",
       "      <th></th>\n",
       "      <th>title * text</th>\n",
       "      <th>label</th>\n",
       "    </tr>\n",
       "  </thead>\n",
       "  <tbody>\n",
       "    <tr>\n",
       "      <th>896</th>\n",
       "      <td>Finland  Denmark  Germany halt arms sales to S...</td>\n",
       "      <td>0</td>\n",
       "    </tr>\n",
       "    <tr>\n",
       "      <th>765</th>\n",
       "      <td>There s a growing list of top Republicans who ...</td>\n",
       "      <td>0</td>\n",
       "    </tr>\n",
       "    <tr>\n",
       "      <th>1567</th>\n",
       "      <td>Republican irony</td>\n",
       "      <td>0</td>\n",
       "    </tr>\n",
       "    <tr>\n",
       "      <th>1439</th>\n",
       "      <td>The Cost of America's Moral Leadership</td>\n",
       "      <td>0</td>\n",
       "    </tr>\n",
       "    <tr>\n",
       "      <th>1051</th>\n",
       "      <td>Why Liberals Win  Even When They Lose Election...</td>\n",
       "      <td>0</td>\n",
       "    </tr>\n",
       "  </tbody>\n",
       "</table>\n",
       "</div>"
      ],
      "text/plain": [
       "                                           title * text  label\n",
       "896   Finland  Denmark  Germany halt arms sales to S...      0\n",
       "765   There s a growing list of top Republicans who ...      0\n",
       "1567                                   Republican irony      0\n",
       "1439             The Cost of America's Moral Leadership      0\n",
       "1051  Why Liberals Win  Even When They Lose Election...      0"
      ]
     },
     "execution_count": 62,
     "metadata": {},
     "output_type": "execute_result"
    }
   ],
   "source": [
    "# Make a dataframe of Misclassified posts\n",
    "wrong = pd.DataFrame(combine.loc[row_ids, ['title * text', 'label']])\n",
    "wrong.head()"
   ]
  },
  {
   "cell_type": "code",
   "execution_count": 63,
   "metadata": {
    "scrolled": true
   },
   "outputs": [
    {
     "data": {
      "text/plain": [
       "896     Finland  Denmark  Germany halt arms sales to S...\n",
       "765     There s a growing list of top Republicans who ...\n",
       "1567                                     Republican irony\n",
       "1439               The Cost of America's Moral Leadership\n",
       "1051    Why Liberals Win  Even When They Lose Election...\n",
       "Name: title * text, dtype: object"
      ]
     },
     "execution_count": 63,
     "metadata": {},
     "output_type": "execute_result"
    }
   ],
   "source": [
    "# Check the dataframe\n",
    "wrong['title * text'].head()"
   ]
  },
  {
   "cell_type": "code",
   "execution_count": 66,
   "metadata": {},
   "outputs": [
    {
     "name": "stdout",
     "output_type": "stream",
     "text": [
      "Finland  Denmark  Germany halt arms sales to Saudi Arabia\n",
      "Hillary Clinton will run for president again in       former adviser says\n"
     ]
    }
   ],
   "source": [
    "# Example of misclassified and investigate\n",
    "print(combine['title * text'][896])\n",
    "print(combine['title * text'][726])"
   ]
  },
  {
   "cell_type": "code",
   "execution_count": null,
   "metadata": {},
   "outputs": [],
   "source": []
  }
 ],
 "metadata": {
  "kernelspec": {
   "display_name": "Python 3",
   "language": "python",
   "name": "python3"
  },
  "language_info": {
   "codemirror_mode": {
    "name": "ipython",
    "version": 3
   },
   "file_extension": ".py",
   "mimetype": "text/x-python",
   "name": "python",
   "nbconvert_exporter": "python",
   "pygments_lexer": "ipython3",
   "version": "3.6.5"
  }
 },
 "nbformat": 4,
 "nbformat_minor": 2
}
